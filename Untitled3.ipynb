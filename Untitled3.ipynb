{
 "cells": [
  {
   "cell_type": "code",
   "execution_count": 1,
   "id": "78f88129-9f0e-487d-803a-4530eabdfb72",
   "metadata": {},
   "outputs": [
    {
     "name": "stdout",
     "output_type": "stream",
     "text": [
      "Collecting yfinance\n",
      "  Downloading yfinance-0.2.54-py2.py3-none-any.whl.metadata (5.8 kB)\n",
      "Requirement already satisfied: pandas>=1.3.0 in c:\\users\\lenovo\\anaconda3\\lib\\site-packages (from yfinance) (2.2.2)\n",
      "Requirement already satisfied: numpy>=1.16.5 in c:\\users\\lenovo\\anaconda3\\lib\\site-packages (from yfinance) (1.26.4)\n",
      "Requirement already satisfied: requests>=2.31 in c:\\users\\lenovo\\anaconda3\\lib\\site-packages (from yfinance) (2.32.2)\n",
      "Collecting multitasking>=0.0.7 (from yfinance)\n",
      "  Downloading multitasking-0.0.11-py3-none-any.whl.metadata (5.5 kB)\n",
      "Requirement already satisfied: platformdirs>=2.0.0 in c:\\users\\lenovo\\anaconda3\\lib\\site-packages (from yfinance) (3.10.0)\n",
      "Requirement already satisfied: pytz>=2022.5 in c:\\users\\lenovo\\anaconda3\\lib\\site-packages (from yfinance) (2024.1)\n",
      "Requirement already satisfied: frozendict>=2.3.4 in c:\\users\\lenovo\\anaconda3\\lib\\site-packages (from yfinance) (2.4.2)\n",
      "Collecting peewee>=3.16.2 (from yfinance)\n",
      "  Downloading peewee-3.17.9.tar.gz (3.0 MB)\n",
      "     ---------------------------------------- 0.0/3.0 MB ? eta -:--:--\n",
      "     ---------------------------------------- 0.0/3.0 MB ? eta -:--:--\n",
      "     ---------------------------------------- 0.0/3.0 MB ? eta -:--:--\n",
      "     ---------------------------------------- 0.0/3.0 MB ? eta -:--:--\n",
      "     ---------------------------------------- 0.0/3.0 MB 217.9 kB/s eta 0:00:14\n",
      "     ---------------------------------------- 0.0/3.0 MB 217.9 kB/s eta 0:00:14\n",
      "      --------------------------------------- 0.0/3.0 MB 140.3 kB/s eta 0:00:22\n",
      "      --------------------------------------- 0.0/3.0 MB 140.3 kB/s eta 0:00:22\n",
      "      --------------------------------------- 0.1/3.0 MB 181.6 kB/s eta 0:00:17\n",
      "      --------------------------------------- 0.1/3.0 MB 178.6 kB/s eta 0:00:17\n",
      "      --------------------------------------- 0.1/3.0 MB 178.6 kB/s eta 0:00:17\n",
      "      --------------------------------------- 0.1/3.0 MB 178.6 kB/s eta 0:00:17\n",
      "     - -------------------------------------- 0.1/3.0 MB 174.7 kB/s eta 0:00:17\n",
      "     - -------------------------------------- 0.1/3.0 MB 187.2 kB/s eta 0:00:16\n",
      "     - -------------------------------------- 0.1/3.0 MB 187.2 kB/s eta 0:00:16\n",
      "     - -------------------------------------- 0.1/3.0 MB 184.7 kB/s eta 0:00:16\n",
      "     - -------------------------------------- 0.1/3.0 MB 189.4 kB/s eta 0:00:16\n",
      "     -- ------------------------------------- 0.2/3.0 MB 233.1 kB/s eta 0:00:13\n",
      "     -- ------------------------------------- 0.2/3.0 MB 254.0 kB/s eta 0:00:12\n",
      "     -- ------------------------------------- 0.2/3.0 MB 264.5 kB/s eta 0:00:11\n",
      "     -- ------------------------------------- 0.2/3.0 MB 264.5 kB/s eta 0:00:11\n",
      "     -- ------------------------------------- 0.2/3.0 MB 264.5 kB/s eta 0:00:11\n",
      "     --- ------------------------------------ 0.3/3.0 MB 257.9 kB/s eta 0:00:11\n",
      "     --- ------------------------------------ 0.3/3.0 MB 257.9 kB/s eta 0:00:11\n",
      "     --- ------------------------------------ 0.3/3.0 MB 257.9 kB/s eta 0:00:11\n",
      "     --- ------------------------------------ 0.3/3.0 MB 257.9 kB/s eta 0:00:11\n",
      "     --- ------------------------------------ 0.3/3.0 MB 257.9 kB/s eta 0:00:11\n",
      "     --- ------------------------------------ 0.3/3.0 MB 226.8 kB/s eta 0:00:13\n",
      "     --- ------------------------------------ 0.3/3.0 MB 226.8 kB/s eta 0:00:13\n",
      "     ---- ----------------------------------- 0.3/3.0 MB 234.0 kB/s eta 0:00:12\n",
      "     ---- ----------------------------------- 0.3/3.0 MB 234.0 kB/s eta 0:00:12\n",
      "     ---- ----------------------------------- 0.4/3.0 MB 247.4 kB/s eta 0:00:11\n",
      "     ---- ----------------------------------- 0.4/3.0 MB 247.4 kB/s eta 0:00:11\n",
      "     ---- ----------------------------------- 0.4/3.0 MB 244.0 kB/s eta 0:00:11\n",
      "     ---- ----------------------------------- 0.4/3.0 MB 244.0 kB/s eta 0:00:11\n",
      "     ----- ---------------------------------- 0.4/3.0 MB 244.1 kB/s eta 0:00:11\n",
      "     ----- ---------------------------------- 0.4/3.0 MB 244.1 kB/s eta 0:00:11\n",
      "     ----- ---------------------------------- 0.4/3.0 MB 251.1 kB/s eta 0:00:11\n",
      "     ------ --------------------------------- 0.5/3.0 MB 265.6 kB/s eta 0:00:10\n",
      "     ------ --------------------------------- 0.5/3.0 MB 265.6 kB/s eta 0:00:10\n",
      "     ------ --------------------------------- 0.5/3.0 MB 264.3 kB/s eta 0:00:10\n",
      "     ------ --------------------------------- 0.5/3.0 MB 264.3 kB/s eta 0:00:10\n",
      "     ------ --------------------------------- 0.5/3.0 MB 264.3 kB/s eta 0:00:10\n",
      "     ------ --------------------------------- 0.5/3.0 MB 264.3 kB/s eta 0:00:10\n",
      "     ------ --------------------------------- 0.5/3.0 MB 264.3 kB/s eta 0:00:10\n",
      "     ------ --------------------------------- 0.5/3.0 MB 264.3 kB/s eta 0:00:10\n",
      "     ------ --------------------------------- 0.5/3.0 MB 238.3 kB/s eta 0:00:11\n",
      "     ------ --------------------------------- 0.5/3.0 MB 240.9 kB/s eta 0:00:11\n",
      "     ------- -------------------------------- 0.5/3.0 MB 243.9 kB/s eta 0:00:11\n",
      "     ------- -------------------------------- 0.6/3.0 MB 258.4 kB/s eta 0:00:10\n",
      "     -------- ------------------------------- 0.6/3.0 MB 263.0 kB/s eta 0:00:10\n",
      "     -------- ------------------------------- 0.6/3.0 MB 268.3 kB/s eta 0:00:09\n",
      "     -------- ------------------------------- 0.6/3.0 MB 269.0 kB/s eta 0:00:09\n",
      "     --------- ------------------------------ 0.7/3.0 MB 280.8 kB/s eta 0:00:09\n",
      "     --------- ------------------------------ 0.7/3.0 MB 288.0 kB/s eta 0:00:09\n",
      "     --------- ------------------------------ 0.7/3.0 MB 296.7 kB/s eta 0:00:08\n",
      "     ---------- ----------------------------- 0.8/3.0 MB 305.2 kB/s eta 0:00:08\n",
      "     ---------- ----------------------------- 0.8/3.0 MB 305.2 kB/s eta 0:00:08\n",
      "     ---------- ----------------------------- 0.8/3.0 MB 296.8 kB/s eta 0:00:08\n",
      "     ---------- ----------------------------- 0.8/3.0 MB 304.8 kB/s eta 0:00:08\n",
      "     ---------- ----------------------------- 0.8/3.0 MB 304.8 kB/s eta 0:00:08\n",
      "     ---------- ----------------------------- 0.8/3.0 MB 304.8 kB/s eta 0:00:08\n",
      "     ----------- ---------------------------- 0.9/3.0 MB 311.4 kB/s eta 0:00:07\n",
      "     ------------ --------------------------- 0.9/3.0 MB 322.2 kB/s eta 0:00:07\n",
      "     ------------ --------------------------- 0.9/3.0 MB 322.3 kB/s eta 0:00:07\n",
      "     ------------- -------------------------- 1.0/3.0 MB 331.1 kB/s eta 0:00:07\n",
      "     ------------- -------------------------- 1.0/3.0 MB 336.1 kB/s eta 0:00:06\n",
      "     -------------- ------------------------- 1.1/3.0 MB 347.7 kB/s eta 0:00:06\n",
      "     -------------- ------------------------- 1.1/3.0 MB 349.0 kB/s eta 0:00:06\n",
      "     --------------- ------------------------ 1.1/3.0 MB 355.1 kB/s eta 0:00:06\n",
      "     --------------- ------------------------ 1.2/3.0 MB 361.3 kB/s eta 0:00:06\n",
      "     ---------------- ----------------------- 1.2/3.0 MB 371.8 kB/s eta 0:00:05\n",
      "     ---------------- ----------------------- 1.3/3.0 MB 382.0 kB/s eta 0:00:05\n",
      "     ----------------- ---------------------- 1.3/3.0 MB 387.7 kB/s eta 0:00:05\n",
      "     ----------------- ---------------------- 1.3/3.0 MB 386.5 kB/s eta 0:00:05\n",
      "     ------------------ --------------------- 1.4/3.0 MB 397.4 kB/s eta 0:00:05\n",
      "     ------------------- -------------------- 1.5/3.0 MB 412.5 kB/s eta 0:00:04\n",
      "     ------------------- -------------------- 1.5/3.0 MB 415.7 kB/s eta 0:00:04\n",
      "     -------------------- ------------------- 1.5/3.0 MB 426.4 kB/s eta 0:00:04\n",
      "     -------------------- ------------------- 1.5/3.0 MB 425.5 kB/s eta 0:00:04\n",
      "     -------------------- ------------------- 1.5/3.0 MB 425.5 kB/s eta 0:00:04\n",
      "     --------------------- ------------------ 1.6/3.0 MB 427.7 kB/s eta 0:00:04\n",
      "     ---------------------- ----------------- 1.7/3.0 MB 438.6 kB/s eta 0:00:04\n",
      "     ---------------------- ----------------- 1.7/3.0 MB 445.8 kB/s eta 0:00:03\n",
      "     ---------------------- ----------------- 1.7/3.0 MB 449.4 kB/s eta 0:00:03\n",
      "     ----------------------- ---------------- 1.8/3.0 MB 453.4 kB/s eta 0:00:03\n",
      "     ------------------------ --------------- 1.8/3.0 MB 461.1 kB/s eta 0:00:03\n",
      "     ------------------------- -------------- 1.9/3.0 MB 471.0 kB/s eta 0:00:03\n",
      "     ------------------------- -------------- 1.9/3.0 MB 474.9 kB/s eta 0:00:03\n",
      "     ------------------------- -------------- 1.9/3.0 MB 474.9 kB/s eta 0:00:03\n",
      "     ------------------------- -------------- 1.9/3.0 MB 474.9 kB/s eta 0:00:03\n",
      "     ------------------------- -------------- 1.9/3.0 MB 462.1 kB/s eta 0:00:03\n",
      "     -------------------------- ------------- 2.0/3.0 MB 471.5 kB/s eta 0:00:03\n",
      "     -------------------------- ------------- 2.0/3.0 MB 473.5 kB/s eta 0:00:03\n",
      "     --------------------------- ------------ 2.1/3.0 MB 485.0 kB/s eta 0:00:02\n",
      "     ---------------------------- ----------- 2.1/3.0 MB 486.8 kB/s eta 0:00:02\n",
      "     ---------------------------- ----------- 2.2/3.0 MB 493.2 kB/s eta 0:00:02\n",
      "     ----------------------------- ---------- 2.3/3.0 MB 501.8 kB/s eta 0:00:02\n",
      "     ------------------------------ --------- 2.3/3.0 MB 511.4 kB/s eta 0:00:02\n",
      "     ------------------------------- -------- 2.4/3.0 MB 517.4 kB/s eta 0:00:02\n",
      "     ------------------------------- -------- 2.4/3.0 MB 515.3 kB/s eta 0:00:02\n",
      "     -------------------------------- ------- 2.5/3.0 MB 527.3 kB/s eta 0:00:02\n",
      "     --------------------------------- ------ 2.5/3.0 MB 538.1 kB/s eta 0:00:01\n",
      "     ---------------------------------- ----- 2.6/3.0 MB 544.7 kB/s eta 0:00:01\n",
      "     ---------------------------------- ----- 2.6/3.0 MB 542.2 kB/s eta 0:00:01\n",
      "     ----------------------------------- ---- 2.7/3.0 MB 553.6 kB/s eta 0:00:01\n",
      "     ----------------------------------- ---- 2.7/3.0 MB 553.6 kB/s eta 0:00:01\n",
      "     ------------------------------------ --- 2.7/3.0 MB 551.6 kB/s eta 0:00:01\n",
      "     ------------------------------------ --- 2.8/3.0 MB 556.4 kB/s eta 0:00:01\n",
      "     ------------------------------------- -- 2.8/3.0 MB 561.4 kB/s eta 0:00:01\n",
      "     ---------------------------------------  3.0/3.0 MB 580.8 kB/s eta 0:00:01\n",
      "     ---------------------------------------  3.0/3.0 MB 583.1 kB/s eta 0:00:01\n",
      "     ---------------------------------------  3.0/3.0 MB 583.1 kB/s eta 0:00:01\n",
      "     ---------------------------------------- 3.0/3.0 MB 577.9 kB/s eta 0:00:00\n",
      "  Installing build dependencies: started\n",
      "  Installing build dependencies: finished with status 'done'\n",
      "  Getting requirements to build wheel: started\n",
      "  Getting requirements to build wheel: finished with status 'done'\n",
      "  Preparing metadata (pyproject.toml): started\n",
      "  Preparing metadata (pyproject.toml): finished with status 'done'\n",
      "Requirement already satisfied: beautifulsoup4>=4.11.1 in c:\\users\\lenovo\\anaconda3\\lib\\site-packages (from yfinance) (4.12.3)\n",
      "Requirement already satisfied: soupsieve>1.2 in c:\\users\\lenovo\\anaconda3\\lib\\site-packages (from beautifulsoup4>=4.11.1->yfinance) (2.5)\n",
      "Requirement already satisfied: python-dateutil>=2.8.2 in c:\\users\\lenovo\\anaconda3\\lib\\site-packages (from pandas>=1.3.0->yfinance) (2.9.0.post0)\n",
      "Requirement already satisfied: tzdata>=2022.7 in c:\\users\\lenovo\\anaconda3\\lib\\site-packages (from pandas>=1.3.0->yfinance) (2023.3)\n",
      "Requirement already satisfied: charset-normalizer<4,>=2 in c:\\users\\lenovo\\anaconda3\\lib\\site-packages (from requests>=2.31->yfinance) (2.0.4)\n",
      "Requirement already satisfied: idna<4,>=2.5 in c:\\users\\lenovo\\anaconda3\\lib\\site-packages (from requests>=2.31->yfinance) (3.7)\n",
      "Requirement already satisfied: urllib3<3,>=1.21.1 in c:\\users\\lenovo\\anaconda3\\lib\\site-packages (from requests>=2.31->yfinance) (2.2.2)\n",
      "Requirement already satisfied: certifi>=2017.4.17 in c:\\users\\lenovo\\anaconda3\\lib\\site-packages (from requests>=2.31->yfinance) (2024.8.30)\n",
      "Requirement already satisfied: six>=1.5 in c:\\users\\lenovo\\anaconda3\\lib\\site-packages (from python-dateutil>=2.8.2->pandas>=1.3.0->yfinance) (1.16.0)\n",
      "Downloading yfinance-0.2.54-py2.py3-none-any.whl (108 kB)\n",
      "   ---------------------------------------- 0.0/108.7 kB ? eta -:--:--\n",
      "   --------------- ------------------------ 41.0/108.7 kB 1.9 MB/s eta 0:00:01\n",
      "   ---------------------------------------- 108.7/108.7 kB 1.2 MB/s eta 0:00:00\n",
      "Downloading multitasking-0.0.11-py3-none-any.whl (8.5 kB)\n",
      "Building wheels for collected packages: peewee\n",
      "  Building wheel for peewee (pyproject.toml): started\n",
      "  Building wheel for peewee (pyproject.toml): finished with status 'done'\n",
      "  Created wheel for peewee: filename=peewee-3.17.9-py3-none-any.whl size=139095 sha256=e762b54f07423fa45c051771ef9914355840db4ca551429347c1d69780ce6f4e\n",
      "  Stored in directory: c:\\users\\lenovo\\appdata\\local\\pip\\cache\\wheels\\43\\ef\\2d\\2c51d496bf084945ffdf838b4cc8767b8ba1cc20eb41588831\n",
      "Successfully built peewee\n",
      "Installing collected packages: peewee, multitasking, yfinance\n",
      "Successfully installed multitasking-0.0.11 peewee-3.17.9 yfinance-0.2.54\n",
      "Requirement already satisfied: matplotlib in c:\\users\\lenovo\\anaconda3\\lib\\site-packages (3.8.4)\n",
      "Requirement already satisfied: contourpy>=1.0.1 in c:\\users\\lenovo\\anaconda3\\lib\\site-packages (from matplotlib) (1.2.0)\n",
      "Requirement already satisfied: cycler>=0.10 in c:\\users\\lenovo\\anaconda3\\lib\\site-packages (from matplotlib) (0.11.0)\n",
      "Requirement already satisfied: fonttools>=4.22.0 in c:\\users\\lenovo\\anaconda3\\lib\\site-packages (from matplotlib) (4.51.0)\n",
      "Requirement already satisfied: kiwisolver>=1.3.1 in c:\\users\\lenovo\\anaconda3\\lib\\site-packages (from matplotlib) (1.4.4)\n",
      "Requirement already satisfied: numpy>=1.21 in c:\\users\\lenovo\\anaconda3\\lib\\site-packages (from matplotlib) (1.26.4)\n",
      "Requirement already satisfied: packaging>=20.0 in c:\\users\\lenovo\\anaconda3\\lib\\site-packages (from matplotlib) (23.2)\n",
      "Requirement already satisfied: pillow>=8 in c:\\users\\lenovo\\anaconda3\\lib\\site-packages (from matplotlib) (10.3.0)\n",
      "Requirement already satisfied: pyparsing>=2.3.1 in c:\\users\\lenovo\\anaconda3\\lib\\site-packages (from matplotlib) (3.0.9)\n",
      "Requirement already satisfied: python-dateutil>=2.7 in c:\\users\\lenovo\\anaconda3\\lib\\site-packages (from matplotlib) (2.9.0.post0)\n",
      "Requirement already satisfied: six>=1.5 in c:\\users\\lenovo\\anaconda3\\lib\\site-packages (from python-dateutil>=2.7->matplotlib) (1.16.0)\n"
     ]
    }
   ],
   "source": [
    "!pip install yfinance\n",
    "!pip install matplotlib\n",
    "# !pip install pandas==1.3.3"
   ]
  },
  {
   "cell_type": "code",
   "execution_count": 35,
   "id": "a07056f0-d0c1-426a-a7ef-065173768811",
   "metadata": {},
   "outputs": [],
   "source": [
    "import yfinance as yf\n",
    "import pandas as pd\n",
    "import matplotlib.pyplot as plt"
   ]
  },
  {
   "cell_type": "code",
   "execution_count": 81,
   "id": "7bb6f90b-91ad-4564-ac34-0473c7444827",
   "metadata": {},
   "outputs": [],
   "source": [
    "gme = yf.Ticker(\"GME\")"
   ]
  },
  {
   "cell_type": "code",
   "execution_count": 99,
   "id": "caf8c0e5-d456-41ef-b597-fc251cdfe2f7",
   "metadata": {},
   "outputs": [],
   "source": [
    "gme_data = gme.history(period=\"max\")"
   ]
  },
  {
   "cell_type": "code",
   "execution_count": 101,
   "id": "37f05eed-a377-41df-885f-0eb3873dcceb",
   "metadata": {},
   "outputs": [],
   "source": [
    "gme_data.reset_index(inplace=True)"
   ]
  },
  {
   "cell_type": "code",
   "execution_count": 103,
   "id": "7c9fdd1d-dbbb-4999-89e6-fff6d3ac1672",
   "metadata": {},
   "outputs": [
    {
     "data": {
      "text/html": [
       "<div>\n",
       "<style scoped>\n",
       "    .dataframe tbody tr th:only-of-type {\n",
       "        vertical-align: middle;\n",
       "    }\n",
       "\n",
       "    .dataframe tbody tr th {\n",
       "        vertical-align: top;\n",
       "    }\n",
       "\n",
       "    .dataframe thead th {\n",
       "        text-align: right;\n",
       "    }\n",
       "</style>\n",
       "<table border=\"1\" class=\"dataframe\">\n",
       "  <thead>\n",
       "    <tr style=\"text-align: right;\">\n",
       "      <th></th>\n",
       "      <th>Date</th>\n",
       "      <th>Open</th>\n",
       "      <th>High</th>\n",
       "      <th>Low</th>\n",
       "      <th>Close</th>\n",
       "      <th>Volume</th>\n",
       "      <th>Dividends</th>\n",
       "      <th>Stock Splits</th>\n",
       "    </tr>\n",
       "  </thead>\n",
       "  <tbody>\n",
       "    <tr>\n",
       "      <th>0</th>\n",
       "      <td>2002-02-13 00:00:00-05:00</td>\n",
       "      <td>1.620129</td>\n",
       "      <td>1.693350</td>\n",
       "      <td>1.603296</td>\n",
       "      <td>1.691667</td>\n",
       "      <td>76216000</td>\n",
       "      <td>0.0</td>\n",
       "      <td>0.0</td>\n",
       "    </tr>\n",
       "    <tr>\n",
       "      <th>1</th>\n",
       "      <td>2002-02-14 00:00:00-05:00</td>\n",
       "      <td>1.712707</td>\n",
       "      <td>1.716073</td>\n",
       "      <td>1.670626</td>\n",
       "      <td>1.683250</td>\n",
       "      <td>11021600</td>\n",
       "      <td>0.0</td>\n",
       "      <td>0.0</td>\n",
       "    </tr>\n",
       "    <tr>\n",
       "      <th>2</th>\n",
       "      <td>2002-02-15 00:00:00-05:00</td>\n",
       "      <td>1.683251</td>\n",
       "      <td>1.687459</td>\n",
       "      <td>1.658002</td>\n",
       "      <td>1.674834</td>\n",
       "      <td>8389600</td>\n",
       "      <td>0.0</td>\n",
       "      <td>0.0</td>\n",
       "    </tr>\n",
       "    <tr>\n",
       "      <th>3</th>\n",
       "      <td>2002-02-19 00:00:00-05:00</td>\n",
       "      <td>1.666418</td>\n",
       "      <td>1.666418</td>\n",
       "      <td>1.578047</td>\n",
       "      <td>1.607504</td>\n",
       "      <td>7410400</td>\n",
       "      <td>0.0</td>\n",
       "      <td>0.0</td>\n",
       "    </tr>\n",
       "    <tr>\n",
       "      <th>4</th>\n",
       "      <td>2002-02-20 00:00:00-05:00</td>\n",
       "      <td>1.615920</td>\n",
       "      <td>1.662210</td>\n",
       "      <td>1.603296</td>\n",
       "      <td>1.662210</td>\n",
       "      <td>6892800</td>\n",
       "      <td>0.0</td>\n",
       "      <td>0.0</td>\n",
       "    </tr>\n",
       "  </tbody>\n",
       "</table>\n",
       "</div>"
      ],
      "text/plain": [
       "                       Date      Open      High       Low     Close    Volume  \\\n",
       "0 2002-02-13 00:00:00-05:00  1.620129  1.693350  1.603296  1.691667  76216000   \n",
       "1 2002-02-14 00:00:00-05:00  1.712707  1.716073  1.670626  1.683250  11021600   \n",
       "2 2002-02-15 00:00:00-05:00  1.683251  1.687459  1.658002  1.674834   8389600   \n",
       "3 2002-02-19 00:00:00-05:00  1.666418  1.666418  1.578047  1.607504   7410400   \n",
       "4 2002-02-20 00:00:00-05:00  1.615920  1.662210  1.603296  1.662210   6892800   \n",
       "\n",
       "   Dividends  Stock Splits  \n",
       "0        0.0           0.0  \n",
       "1        0.0           0.0  \n",
       "2        0.0           0.0  \n",
       "3        0.0           0.0  \n",
       "4        0.0           0.0  "
      ]
     },
     "execution_count": 103,
     "metadata": {},
     "output_type": "execute_result"
    }
   ],
   "source": [
    "gme_data.head()"
   ]
  },
  {
   "cell_type": "code",
   "execution_count": 5,
   "id": "7a479d67-d8b5-460f-950b-d8ae222984c9",
   "metadata": {},
   "outputs": [],
   "source": [
    "tesla = yf.Ticker(\"TSLA\")"
   ]
  },
  {
   "cell_type": "code",
   "execution_count": 93,
   "id": "470c8314-9d08-4bc8-ba8c-8eca6756d475",
   "metadata": {},
   "outputs": [],
   "source": [
    "tesla_data = tesla.history(period=\"max\")"
   ]
  },
  {
   "cell_type": "code",
   "execution_count": 95,
   "id": "ca1adb99-b4d8-429a-9e23-3e7d670e1429",
   "metadata": {},
   "outputs": [],
   "source": [
    "tesla_data.reset_index(inplace=True)"
   ]
  },
  {
   "cell_type": "code",
   "execution_count": 97,
   "id": "a206160e-2d39-4c39-a8f5-a5758a8c7c8a",
   "metadata": {},
   "outputs": [
    {
     "data": {
      "text/html": [
       "<div>\n",
       "<style scoped>\n",
       "    .dataframe tbody tr th:only-of-type {\n",
       "        vertical-align: middle;\n",
       "    }\n",
       "\n",
       "    .dataframe tbody tr th {\n",
       "        vertical-align: top;\n",
       "    }\n",
       "\n",
       "    .dataframe thead th {\n",
       "        text-align: right;\n",
       "    }\n",
       "</style>\n",
       "<table border=\"1\" class=\"dataframe\">\n",
       "  <thead>\n",
       "    <tr style=\"text-align: right;\">\n",
       "      <th></th>\n",
       "      <th>Date</th>\n",
       "      <th>Open</th>\n",
       "      <th>High</th>\n",
       "      <th>Low</th>\n",
       "      <th>Close</th>\n",
       "      <th>Volume</th>\n",
       "      <th>Dividends</th>\n",
       "      <th>Stock Splits</th>\n",
       "    </tr>\n",
       "  </thead>\n",
       "  <tbody>\n",
       "    <tr>\n",
       "      <th>0</th>\n",
       "      <td>2010-06-29 00:00:00-04:00</td>\n",
       "      <td>1.266667</td>\n",
       "      <td>1.666667</td>\n",
       "      <td>1.169333</td>\n",
       "      <td>1.592667</td>\n",
       "      <td>281494500</td>\n",
       "      <td>0.0</td>\n",
       "      <td>0.0</td>\n",
       "    </tr>\n",
       "    <tr>\n",
       "      <th>1</th>\n",
       "      <td>2010-06-30 00:00:00-04:00</td>\n",
       "      <td>1.719333</td>\n",
       "      <td>2.028000</td>\n",
       "      <td>1.553333</td>\n",
       "      <td>1.588667</td>\n",
       "      <td>257806500</td>\n",
       "      <td>0.0</td>\n",
       "      <td>0.0</td>\n",
       "    </tr>\n",
       "    <tr>\n",
       "      <th>2</th>\n",
       "      <td>2010-07-01 00:00:00-04:00</td>\n",
       "      <td>1.666667</td>\n",
       "      <td>1.728000</td>\n",
       "      <td>1.351333</td>\n",
       "      <td>1.464000</td>\n",
       "      <td>123282000</td>\n",
       "      <td>0.0</td>\n",
       "      <td>0.0</td>\n",
       "    </tr>\n",
       "    <tr>\n",
       "      <th>3</th>\n",
       "      <td>2010-07-02 00:00:00-04:00</td>\n",
       "      <td>1.533333</td>\n",
       "      <td>1.540000</td>\n",
       "      <td>1.247333</td>\n",
       "      <td>1.280000</td>\n",
       "      <td>77097000</td>\n",
       "      <td>0.0</td>\n",
       "      <td>0.0</td>\n",
       "    </tr>\n",
       "    <tr>\n",
       "      <th>4</th>\n",
       "      <td>2010-07-06 00:00:00-04:00</td>\n",
       "      <td>1.333333</td>\n",
       "      <td>1.333333</td>\n",
       "      <td>1.055333</td>\n",
       "      <td>1.074000</td>\n",
       "      <td>103003500</td>\n",
       "      <td>0.0</td>\n",
       "      <td>0.0</td>\n",
       "    </tr>\n",
       "  </tbody>\n",
       "</table>\n",
       "</div>"
      ],
      "text/plain": [
       "                       Date      Open      High       Low     Close  \\\n",
       "0 2010-06-29 00:00:00-04:00  1.266667  1.666667  1.169333  1.592667   \n",
       "1 2010-06-30 00:00:00-04:00  1.719333  2.028000  1.553333  1.588667   \n",
       "2 2010-07-01 00:00:00-04:00  1.666667  1.728000  1.351333  1.464000   \n",
       "3 2010-07-02 00:00:00-04:00  1.533333  1.540000  1.247333  1.280000   \n",
       "4 2010-07-06 00:00:00-04:00  1.333333  1.333333  1.055333  1.074000   \n",
       "\n",
       "      Volume  Dividends  Stock Splits  \n",
       "0  281494500        0.0           0.0  \n",
       "1  257806500        0.0           0.0  \n",
       "2  123282000        0.0           0.0  \n",
       "3   77097000        0.0           0.0  \n",
       "4  103003500        0.0           0.0  "
      ]
     },
     "execution_count": 97,
     "metadata": {},
     "output_type": "execute_result"
    }
   ],
   "source": [
    "tesla_data.head()"
   ]
  },
  {
   "cell_type": "code",
   "execution_count": 105,
   "id": "3575801f-a708-45d6-9487-427ab5aeeb63",
   "metadata": {},
   "outputs": [],
   "source": [
    "tesla_revenue = tesla.history(period=\"max\")"
   ]
  },
  {
   "cell_type": "code",
   "execution_count": 107,
   "id": "7775cb2d-4b95-4afc-98ca-4ff9167f324a",
   "metadata": {},
   "outputs": [],
   "source": [
    "tesla_data.reset_index(inplace=True)"
   ]
  },
  {
   "cell_type": "code",
   "execution_count": 109,
   "id": "009051d6-ea5b-4eca-866a-a0b1369678e8",
   "metadata": {},
   "outputs": [
    {
     "data": {
      "text/html": [
       "<div>\n",
       "<style scoped>\n",
       "    .dataframe tbody tr th:only-of-type {\n",
       "        vertical-align: middle;\n",
       "    }\n",
       "\n",
       "    .dataframe tbody tr th {\n",
       "        vertical-align: top;\n",
       "    }\n",
       "\n",
       "    .dataframe thead th {\n",
       "        text-align: right;\n",
       "    }\n",
       "</style>\n",
       "<table border=\"1\" class=\"dataframe\">\n",
       "  <thead>\n",
       "    <tr style=\"text-align: right;\">\n",
       "      <th></th>\n",
       "      <th>index</th>\n",
       "      <th>Date</th>\n",
       "      <th>Open</th>\n",
       "      <th>High</th>\n",
       "      <th>Low</th>\n",
       "      <th>Close</th>\n",
       "      <th>Volume</th>\n",
       "      <th>Dividends</th>\n",
       "      <th>Stock Splits</th>\n",
       "    </tr>\n",
       "  </thead>\n",
       "  <tbody>\n",
       "    <tr>\n",
       "      <th>3696</th>\n",
       "      <td>3696</td>\n",
       "      <td>2025-03-10 00:00:00-04:00</td>\n",
       "      <td>252.539993</td>\n",
       "      <td>253.369995</td>\n",
       "      <td>220.000000</td>\n",
       "      <td>222.149994</td>\n",
       "      <td>189076900</td>\n",
       "      <td>0.0</td>\n",
       "      <td>0.0</td>\n",
       "    </tr>\n",
       "    <tr>\n",
       "      <th>3697</th>\n",
       "      <td>3697</td>\n",
       "      <td>2025-03-11 00:00:00-04:00</td>\n",
       "      <td>225.309998</td>\n",
       "      <td>237.059998</td>\n",
       "      <td>217.020004</td>\n",
       "      <td>230.580002</td>\n",
       "      <td>174896400</td>\n",
       "      <td>0.0</td>\n",
       "      <td>0.0</td>\n",
       "    </tr>\n",
       "    <tr>\n",
       "      <th>3698</th>\n",
       "      <td>3698</td>\n",
       "      <td>2025-03-12 00:00:00-04:00</td>\n",
       "      <td>247.220001</td>\n",
       "      <td>251.839996</td>\n",
       "      <td>241.100006</td>\n",
       "      <td>248.089996</td>\n",
       "      <td>142215700</td>\n",
       "      <td>0.0</td>\n",
       "      <td>0.0</td>\n",
       "    </tr>\n",
       "    <tr>\n",
       "      <th>3699</th>\n",
       "      <td>3699</td>\n",
       "      <td>2025-03-13 00:00:00-04:00</td>\n",
       "      <td>248.130005</td>\n",
       "      <td>248.289993</td>\n",
       "      <td>232.600006</td>\n",
       "      <td>240.679993</td>\n",
       "      <td>114813500</td>\n",
       "      <td>0.0</td>\n",
       "      <td>0.0</td>\n",
       "    </tr>\n",
       "    <tr>\n",
       "      <th>3700</th>\n",
       "      <td>3700</td>\n",
       "      <td>2025-03-14 00:00:00-04:00</td>\n",
       "      <td>247.309998</td>\n",
       "      <td>251.580002</td>\n",
       "      <td>240.729996</td>\n",
       "      <td>249.979996</td>\n",
       "      <td>99963500</td>\n",
       "      <td>0.0</td>\n",
       "      <td>0.0</td>\n",
       "    </tr>\n",
       "  </tbody>\n",
       "</table>\n",
       "</div>"
      ],
      "text/plain": [
       "      index                      Date        Open        High         Low  \\\n",
       "3696   3696 2025-03-10 00:00:00-04:00  252.539993  253.369995  220.000000   \n",
       "3697   3697 2025-03-11 00:00:00-04:00  225.309998  237.059998  217.020004   \n",
       "3698   3698 2025-03-12 00:00:00-04:00  247.220001  251.839996  241.100006   \n",
       "3699   3699 2025-03-13 00:00:00-04:00  248.130005  248.289993  232.600006   \n",
       "3700   3700 2025-03-14 00:00:00-04:00  247.309998  251.580002  240.729996   \n",
       "\n",
       "           Close     Volume  Dividends  Stock Splits  \n",
       "3696  222.149994  189076900        0.0           0.0  \n",
       "3697  230.580002  174896400        0.0           0.0  \n",
       "3698  248.089996  142215700        0.0           0.0  \n",
       "3699  240.679993  114813500        0.0           0.0  \n",
       "3700  249.979996   99963500        0.0           0.0  "
      ]
     },
     "execution_count": 109,
     "metadata": {},
     "output_type": "execute_result"
    }
   ],
   "source": [
    "tesla_data.tail()"
   ]
  },
  {
   "cell_type": "code",
   "execution_count": null,
   "id": "fbda1978-216e-4722-a200-2f1e3c4433ea",
   "metadata": {},
   "outputs": [],
   "source": [
    "gm_data.plot(x=\"Date\", y=\"Open\")"
   ]
  },
  {
   "cell_type": "code",
   "execution_count": null,
   "id": "76e0bef0-6176-4fab-b575-c54d1c7b66e7",
   "metadata": {},
   "outputs": [],
   "source": [
    "tesla_share_price_data.plot(x=\"Date\", y=\"Open\")"
   ]
  },
  {
   "cell_type": "code",
   "execution_count": 111,
   "id": "a6367282-e172-44cb-a6c8-0b2c6d6e424b",
   "metadata": {},
   "outputs": [
    {
     "data": {
      "text/plain": [
       "<Axes: xlabel='Date'>"
      ]
     },
     "execution_count": 111,
     "metadata": {},
     "output_type": "execute_result"
    },
    {
     "data": {
      "image/png": "[encoded data removed]",
      "text/plain": [
       "<Figure size 640x480 with 1 Axes>"
      ]
     },
     "metadata": {},
     "output_type": "display_data"
    }
   ],
   "source": [
    "tesla_data.plot(x=\"Date\", y=\"Open\")"
   ]
  },
  {
   "cell_type": "code",
   "execution_count": 87,
   "id": "e31ab924-24a3-4388-9256-2de9474cd6cd",
   "metadata": {},
   "outputs": [
    {
     "data": {
      "text/plain": [
       "<Axes: xlabel='Date'>"
      ]
     },
     "execution_count": 87,
     "metadata": {},
     "output_type": "execute_result"
    },
    {
     "data": {
      "image/png": "[encoded data removed]",
      "text/plain": [
       "<Figure size 640x480 with 1 Axes>"
      ]
     },
     "metadata": {},
     "output_type": "display_data"
    }
   ],
   "source": [
    "tesla_share_price_data.plot(x=\"Date\", y=\"Volume\")"
   ]
  },
  {
   "cell_type": "code",
   "execution_count": 29,
   "id": "ed818490-4bf8-41ed-855b-20e805fefa4e",
   "metadata": {},
   "outputs": [
    {
     "data": {
      "text/plain": [
       "Series([], Name: Dividends, dtype: float64)"
      ]
     },
     "execution_count": 29,
     "metadata": {},
     "output_type": "execute_result"
    }
   ],
   "source": [
    "tesla.dividends"
   ]
  },
  {
   "cell_type": "code",
   "execution_count": 39,
   "id": "50e151e2-73b3-4629-a167-77099fa1cbbd",
   "metadata": {},
   "outputs": [
    {
     "data": {
      "image/png": "[encoded data removed]",
      "text/plain": [
       "<Figure size 1000x500 with 1 Axes>"
      ]
     },
     "metadata": {},
     "output_type": "display_data"
    }
   ],
   "source": [
    "dividends = tesla.dividends\n",
    "dividends = dividends.reset_index()\n",
    "dividends.columns = [\"Date\", \"Dividends\"]\n",
    "\n",
    "# Plot the data\n",
    "plt.figure(figsize=(10, 5))\n",
    "plt.plot(dividends[\"Date\"], dividends[\"Dividends\"], marker='o', linestyle='-')\n",
    "plt.xlabel(\"Date\")\n",
    "plt.ylabel(\"Dividends\")\n",
    "plt.title(\"Tesla Dividends Over Time\")\n",
    "plt.grid()\n",
    "plt.show()"
   ]
  },
  {
   "cell_type": "code",
   "execution_count": 45,
   "id": "2111348c-3b4d-4cc4-94d8-b28d6b105623",
   "metadata": {},
   "outputs": [
    {
     "name": "stdout",
     "output_type": "stream",
     "text": [
      "Requirement already satisfied: pandas in c:\\users\\lenovo\\anaconda3\\lib\\site-packages (2.2.2)\n",
      "Requirement already satisfied: numpy>=1.26.0 in c:\\users\\lenovo\\anaconda3\\lib\\site-packages (from pandas) (1.26.4)\n",
      "Requirement already satisfied: python-dateutil>=2.8.2 in c:\\users\\lenovo\\anaconda3\\lib\\site-packages (from pandas) (2.9.0.post0)\n",
      "Requirement already satisfied: pytz>=2020.1 in c:\\users\\lenovo\\anaconda3\\lib\\site-packages (from pandas) (2024.1)\n",
      "Requirement already satisfied: tzdata>=2022.7 in c:\\users\\lenovo\\anaconda3\\lib\\site-packages (from pandas) (2023.3)\n",
      "Requirement already satisfied: six>=1.5 in c:\\users\\lenovo\\anaconda3\\lib\\site-packages (from python-dateutil>=2.8.2->pandas) (1.16.0)\n",
      "Requirement already satisfied: requests in c:\\users\\lenovo\\anaconda3\\lib\\site-packages (2.32.2)\n",
      "Requirement already satisfied: charset-normalizer<4,>=2 in c:\\users\\lenovo\\anaconda3\\lib\\site-packages (from requests) (2.0.4)\n",
      "Requirement already satisfied: idna<4,>=2.5 in c:\\users\\lenovo\\anaconda3\\lib\\site-packages (from requests) (3.7)\n",
      "Requirement already satisfied: urllib3<3,>=1.21.1 in c:\\users\\lenovo\\anaconda3\\lib\\site-packages (from requests) (2.2.2)\n",
      "Requirement already satisfied: certifi>=2017.4.17 in c:\\users\\lenovo\\anaconda3\\lib\\site-packages (from requests) (2024.8.30)\n",
      "Collecting bs4\n",
      "  Downloading bs4-0.0.2-py2.py3-none-any.whl.metadata (411 bytes)\n",
      "Requirement already satisfied: beautifulsoup4 in c:\\users\\lenovo\\anaconda3\\lib\\site-packages (from bs4) (4.12.3)\n",
      "Requirement already satisfied: soupsieve>1.2 in c:\\users\\lenovo\\anaconda3\\lib\\site-packages (from beautifulsoup4->bs4) (2.5)\n",
      "Downloading bs4-0.0.2-py2.py3-none-any.whl (1.2 kB)\n",
      "Installing collected packages: bs4\n",
      "Successfully installed bs4-0.0.2\n",
      "Collecting html5lib\n",
      "  Downloading html5lib-1.1-py2.py3-none-any.whl.metadata (16 kB)\n",
      "Requirement already satisfied: six>=1.9 in c:\\users\\lenovo\\anaconda3\\lib\\site-packages (from html5lib) (1.16.0)\n",
      "Requirement already satisfied: webencodings in c:\\users\\lenovo\\anaconda3\\lib\\site-packages (from html5lib) (0.5.1)\n",
      "Downloading html5lib-1.1-py2.py3-none-any.whl (112 kB)\n",
      "   ---------------------------------------- 0.0/112.2 kB ? eta -:--:--\n",
      "   --- ------------------------------------ 10.2/112.2 kB ? eta -:--:--\n",
      "   ---------- ---------------------------- 30.7/112.2 kB 330.3 kB/s eta 0:00:01\n",
      "   -------------- ------------------------ 41.0/112.2 kB 330.3 kB/s eta 0:00:01\n",
      "   ------------------------ -------------- 71.7/112.2 kB 393.8 kB/s eta 0:00:01\n",
      "   ---------------------------------- --- 102.4/112.2 kB 454.0 kB/s eta 0:00:01\n",
      "   -------------------------------------- 112.2/112.2 kB 502.1 kB/s eta 0:00:00\n",
      "Installing collected packages: html5lib\n",
      "Successfully installed html5lib-1.1\n",
      "Requirement already satisfied: lxml in c:\\users\\lenovo\\anaconda3\\lib\\site-packages (5.2.1)\n",
      "Requirement already satisfied: plotly in c:\\users\\lenovo\\anaconda3\\lib\\site-packages (5.22.0)\n",
      "Requirement already satisfied: tenacity>=6.2.0 in c:\\users\\lenovo\\anaconda3\\lib\\site-packages (from plotly) (8.2.2)\n",
      "Requirement already satisfied: packaging in c:\\users\\lenovo\\anaconda3\\lib\\site-packages (from plotly) (23.2)\n"
     ]
    }
   ],
   "source": [
    "!pip install pandas\n",
    "\n",
    "!pip install requests\n",
    "!pip install bs4\n",
    "!pip install html5lib \n",
    "!pip install lxml\n",
    "!pip install plotly"
   ]
  },
  {
   "cell_type": "code",
   "execution_count": 46,
   "id": "b33ee9b2-0aed-48c2-b817-b30e2d780bad",
   "metadata": {},
   "outputs": [],
   "source": [
    "import pandas as pd\n",
    "import requests\n",
    "from bs4 import BeautifulSoup"
   ]
  },
  {
   "cell_type": "code",
   "execution_count": 47,
   "id": "386c3fbc-4daf-43c8-9d0f-fa5fd27f9bc7",
   "metadata": {},
   "outputs": [],
   "source": [
    "import warnings\n",
    "# Ignore all warnings\n",
    "warnings.filterwarnings(\"ignore\", category=FutureWarning)"
   ]
  },
  {
   "cell_type": "code",
   "execution_count": 51,
   "id": "0588d1f5-f3d7-465a-8ee4-7f193cf665a2",
   "metadata": {},
   "outputs": [],
   "source": [
    "url = \"https://cf-courses-data.s3.us.cloud-object-storage.appdomain.cloud/IBMDeveloperSkillsNetwork-PY0220EN-SkillsNetwork/labs/project/tesla_data_webpage.html\""
   ]
  },
  {
   "cell_type": "code",
   "execution_count": 53,
   "id": "23486345-b5e7-4faa-bd45-13d55d121add",
   "metadata": {},
   "outputs": [
    {
     "name": "stdout",
     "output_type": "stream",
     "text": [
      "<?xml version=\"1.0\" encoding=\"UTF-8\" standalone=\"yes\"?><Error><Code>NoSuchKey</Code><Message>The specified key does not exist.</Message><Resource>/cf-courses-data/IBMDeveloperSkillsNetwork-PY0220EN-SkillsNetwork/labs/project/tesla_data_webpage.html</Resource><RequestId>745f9655-5767-42a5-9f6a-ebb2eb6cab02</RequestId><httpStatusCode>404</httpStatusCode></Error>\n"
     ]
    }
   ],
   "source": [
    "data  = requests.get(url).text\n",
    "print(data)"
   ]
  },
  {
   "cell_type": "code",
   "execution_count": 63,
   "id": "d8e49e6a-da7b-4b67-86dd-3bb67e52586d",
   "metadata": {},
   "outputs": [
    {
     "name": "stdout",
     "output_type": "stream",
     "text": [
      "Requirement already satisfied: lxml in c:\\users\\lenovo\\anaconda3\\lib\\site-packages (5.2.1)\n"
     ]
    }
   ],
   "source": [
    "!pip install lxml"
   ]
  },
  {
   "cell_type": "code",
   "execution_count": 67,
   "id": "6cd6eb87-c0d1-4a8a-8217-50bd58e959fc",
   "metadata": {},
   "outputs": [
    {
     "name": "stderr",
     "output_type": "stream",
     "text": [
      "C:\\Users\\Lenovo\\anaconda3\\Lib\\html\\parser.py:171: XMLParsedAsHTMLWarning: It looks like you're parsing an XML document using an HTML parser. If this really is an HTML document (maybe it's XHTML?), you can ignore or filter this warning. If it's XML, you should know that using an XML parser will be more reliable. To parse this document as XML, make sure you have the lxml package installed, and pass the keyword argument `features=\"xml\"` into the BeautifulSoup constructor.\n",
      "  k = self.parse_starttag(i)\n"
     ]
    }
   ],
   "source": [
    "soup = BeautifulSoup(data, 'html.parser')"
   ]
  },
  {
   "cell_type": "code",
   "execution_count": 57,
   "id": "e78426d9-0e9c-476a-b235-5409e9a8279c",
   "metadata": {},
   "outputs": [],
   "source": [
    "tesla_data = pd.DataFrame(columns=[\"Date\", \"Open\", \"High\", \"Low\", \"Close\", \"Volume\"])"
   ]
  },
  {
   "cell_type": "code",
   "execution_count": 69,
   "id": "6f0f4537-edc6-4747-8279-9cc408066b76",
   "metadata": {},
   "outputs": [
    {
     "ename": "AttributeError",
     "evalue": "'NoneType' object has no attribute 'find_all'",
     "output_type": "error",
     "traceback": [
      "\u001b[1;31m---------------------------------------------------------------------------\u001b[0m",
      "\u001b[1;31mAttributeError\u001b[0m                            Traceback (most recent call last)",
      "Cell \u001b[1;32mIn[69], line 1\u001b[0m\n\u001b[1;32m----> 1\u001b[0m \u001b[38;5;28;01mfor\u001b[39;00m row \u001b[38;5;129;01min\u001b[39;00m soup\u001b[38;5;241m.\u001b[39mfind(\u001b[38;5;124m\"\u001b[39m\u001b[38;5;124mtbody\u001b[39m\u001b[38;5;124m\"\u001b[39m)\u001b[38;5;241m.\u001b[39mfind_all(\u001b[38;5;124m'\u001b[39m\u001b[38;5;124mtr\u001b[39m\u001b[38;5;124m'\u001b[39m):\n\u001b[0;32m      2\u001b[0m     col \u001b[38;5;241m=\u001b[39m row\u001b[38;5;241m.\u001b[39mfind_all(\u001b[38;5;124m\"\u001b[39m\u001b[38;5;124mtd\u001b[39m\u001b[38;5;124m\"\u001b[39m)\n\u001b[0;32m      3\u001b[0m     date \u001b[38;5;241m=\u001b[39m col[\u001b[38;5;241m0\u001b[39m]\u001b[38;5;241m.\u001b[39mtext\n",
      "\u001b[1;31mAttributeError\u001b[0m: 'NoneType' object has no attribute 'find_all'"
     ]
    }
   ],
   "source": [
    "for row in soup.find(\"tbody\").find_all('tr'):\n",
    "    col = row.find_all(\"td\")\n",
    "    date = col[0].text\n",
    "    Open = col[1].text\n",
    "    high = col[2].text\n",
    "    low = col[3].text\n",
    "    close = col[4].text\n",
    "    adj_close = col[5].text\n",
    "    volume = col[6].text\n",
    "    \n",
    "    # Finally we append the data of each row to the table\n",
    "tesla_data = pd.concat([tesla_data,pd.DataFrame({\"Date\":[date], \"Open\":[Open], \"High\":[high], \"Low\":[low], \"Close\":[close], \"Adj Close\":[adj_close], \"Volume\":[volume]})], ignore_index=True)    "
   ]
  },
  {
   "cell_type": "code",
   "execution_count": 71,
   "id": "176aba86-f02a-48e7-9c6a-a3b5ff907905",
   "metadata": {},
   "outputs": [
    {
     "data": {
      "text/html": [
       "<div>\n",
       "<style scoped>\n",
       "    .dataframe tbody tr th:only-of-type {\n",
       "        vertical-align: middle;\n",
       "    }\n",
       "\n",
       "    .dataframe tbody tr th {\n",
       "        vertical-align: top;\n",
       "    }\n",
       "\n",
       "    .dataframe thead th {\n",
       "        text-align: right;\n",
       "    }\n",
       "</style>\n",
       "<table border=\"1\" class=\"dataframe\">\n",
       "  <thead>\n",
       "    <tr style=\"text-align: right;\">\n",
       "      <th></th>\n",
       "      <th>Date</th>\n",
       "      <th>Open</th>\n",
       "      <th>High</th>\n",
       "      <th>Low</th>\n",
       "      <th>Close</th>\n",
       "      <th>Volume</th>\n",
       "    </tr>\n",
       "  </thead>\n",
       "  <tbody>\n",
       "  </tbody>\n",
       "</table>\n",
       "</div>"
      ],
      "text/plain": [
       "Empty DataFrame\n",
       "Columns: [Date, Open, High, Low, Close, Volume]\n",
       "Index: []"
      ]
     },
     "execution_count": 71,
     "metadata": {},
     "output_type": "execute_result"
    }
   ],
   "source": [
    "tesla_data.head()"
   ]
  },
  {
   "cell_type": "code",
   "execution_count": null,
   "id": "c1259f58-b7ad-4bc4-a515-115ddd36f12d",
   "metadata": {},
   "outputs": [],
   "source": []
  }
 ],
 "metadata": {
  "kernelspec": {
   "display_name": "Python 3 (ipykernel)",
   "language": "python",
   "name": "python3"
  },
  "language_info": {
   "codemirror_mode": {
    "name": "ipython",
    "version": 3
   },
   "file_extension": ".py",
   "mimetype": "text/x-python",
   "name": "python",
   "nbconvert_exporter": "python",
   "pygments_lexer": "ipython3",
   "version": "3.12.4"
  }
 },
 "nbformat": 4,
 "nbformat_minor": 5
}
