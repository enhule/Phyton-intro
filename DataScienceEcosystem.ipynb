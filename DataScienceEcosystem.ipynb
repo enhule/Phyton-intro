{
 "cells": [
  {
   "cell_type": "markdown",
   "id": "16f81291-72d7-4573-85b2-694729589566",
   "metadata": {},
   "source": [
    "# Data Science Tools and Ecosystem"
   ]
  },
  {
   "cell_type": "markdown",
   "id": "19ef4808-0972-4e47-84e4-589fd8b96572",
   "metadata": {},
   "source": [
    "## 1. In this notebook, Data Science Tools and Ecosystem are summarized."
   ]
  },
  {
   "cell_type": "markdown",
   "id": "52550c60-302e-4189-a2f1-3c5d230b5315",
   "metadata": {},
   "source": [
    "**Objectives:**  \n",
    "\n",
    "- List popular languages for Data Science  \n",
    "- Identify commonly used Data Science libraries  \n",
    "- Explore open-source Data Science tools  \n",
    "- Perform basic arithmetic operations in Python  \n",
    "- Convert minutes to hours using Python expressions"
   ]
  },
  {
   "cell_type": "markdown",
   "id": "e6b9739b-2afd-494e-b246-b517a4727695",
   "metadata": {},
   "source": [
    "### Some of the popular languages that Data Scientists use are:\n",
    "1. Python  \n",
    "2. R  \n",
    "3. SQL  \n",
    "4. Julia  \n",
    "5. Scala"
   ]
  },
  {
   "cell_type": "markdown",
   "id": "3e9a9f59-10a1-45c4-adcc-e7941f5fea63",
   "metadata": {},
   "source": [
    "### Some of the commonly used libraries used by Data Scientists include:\n",
    "\n",
    "1. NumPy  \n",
    "2. Pandas  \n",
    "3. Scikit-learn  \n",
    "4. TensorFlow  \n",
    "5. Matplotlib  "
   ]
  },
  {
   "cell_type": "markdown",
   "id": "ee4b2398-be00-4a64-b38d-97eaade3792e",
   "metadata": {},
   "source": [
    "### Some of the commonly used development environment open-source tools in Data Science are:\n",
    "\n",
    "| Data Science Tools |\n",
    "|--------------------|\n",
    "| Jupyter Notebook  |\n",
    "| RStudio           |\n",
    "| Apache Zeppelin   |"
   ]
  },
  {
   "cell_type": "markdown",
   "id": "e642bd99-b68e-461d-bf6a-d03373d4d4d9",
   "metadata": {},
   "source": [
    "### Below are a few examples of evaluating arithmetic expressions in Python"
   ]
  },
  {
   "cell_type": "code",
   "execution_count": 20,
   "id": "ff8b3a77-651a-490c-b8d3-b2966d32bfb5",
   "metadata": {},
   "outputs": [
    {
     "data": {
      "text/plain": [
       "17"
      ]
     },
     "execution_count": 20,
     "metadata": {},
     "output_type": "execute_result"
    }
   ],
   "source": [
    "# This is a simple arithmetic expression to multiply then add integers\n",
    "(3 * 4) + 5"
   ]
  },
  {
   "cell_type": "code",
   "execution_count": 22,
   "id": "4e90c68b-40bd-447e-8c20-22f4eb473e83",
   "metadata": {},
   "outputs": [
    {
     "data": {
      "text/plain": [
       "3.3333333333333335"
      ]
     },
     "execution_count": 22,
     "metadata": {},
     "output_type": "execute_result"
    }
   ],
   "source": [
    "# This will convert 200 minutes to hours by dividing by 60\n",
    "200 / 60"
   ]
  },
  {
   "cell_type": "markdown",
   "id": "de16e593-4f28-4fd5-a94a-6ef65a3f5779",
   "metadata": {},
   "source": [
    "##Author: G.Enkhjargal"
   ]
  },
  {
   "cell_type": "code",
   "execution_count": null,
   "id": "b3dbf693-9096-4fcd-aba7-e79693c12287",
   "metadata": {},
   "outputs": [],
   "source": []
  }
 ],
 "metadata": {
  "kernelspec": {
   "display_name": "Python 3 (ipykernel)",
   "language": "python",
   "name": "python3"
  },
  "language_info": {
   "codemirror_mode": {
    "name": "ipython",
    "version": 3
   },
   "file_extension": ".py",
   "mimetype": "text/x-python",
   "name": "python",
   "nbconvert_exporter": "python",
   "pygments_lexer": "ipython3",
   "version": "3.12.4"
  }
 },
 "nbformat": 4,
 "nbformat_minor": 5
}
